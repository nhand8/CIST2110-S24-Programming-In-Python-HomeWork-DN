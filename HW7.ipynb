{
 "cells": [
  {
   "cell_type": "markdown",
   "metadata": {},
   "source": [
    "# HW 7\n",
    "Name: Dylan Nhan"
   ]
  },
  {
   "cell_type": "markdown",
   "metadata": {},
   "source": [
    "In class I showed how to curl the data from the web. We are going to start by using python requests to do the same."
   ]
  },
  {
   "cell_type": "code",
   "execution_count": 1,
   "metadata": {},
   "outputs": [
    {
     "name": "stderr",
     "output_type": "stream",
     "text": [
      "/Users/dylannhan/Git/CIST-2110-S2024/CIST2110-S24-Programming-In-Python-HomeWork-DN/venv/lib/python3.9/site-packages/urllib3/__init__.py:35: NotOpenSSLWarning: urllib3 v2 only supports OpenSSL 1.1.1+, currently the 'ssl' module is compiled with 'LibreSSL 2.8.3'. See: https://github.com/urllib3/urllib3/issues/3020\n",
      "  warnings.warn(\n"
     ]
    },
    {
     "name": "stdout",
     "output_type": "stream",
     "text": [
      "200\n"
     ]
    }
   ],
   "source": [
    "# Here is the link to gutenbegers Treasure Island\n",
    "# https://gutenberg.org/cache/epub/120/pg120.txt\n",
    "# use python requests to get the text from the url and save it to a variable called book\n",
    "# first you will need to import requests (you might need to install it first with pip)\n",
    "import requests\n",
    "\n",
    "url = \"https://gutenberg.org/cache/epub/120/pg120.txt\"\n",
    "response = requests.get(url)    \n",
    "book = response.text    \n",
    "\n",
    "# print the status code to make sure it was successful (200)\n",
    "print(response.status_code) \n",
    "\n",
    "# Save the test to a file called treasure_island.txt\n",
    "# Hint: you can use the open() function to create a new file and write to it with the write() method\n",
    "# Hint 2: you can use book.text to get the text from the request\n",
    "with open('treasure_island.txt', 'w') as file:\n",
    "    file.write(book)\n",
    "\n",
    "# If all was successful you should have a new file in the same directory called treasure_island.txt"
   ]
  },
  {
   "cell_type": "markdown",
   "metadata": {},
   "source": [
    "Lets do some cleaning of the data like we did in class to get rid of the header and footer."
   ]
  },
  {
   "cell_type": "code",
   "execution_count": 2,
   "metadata": {},
   "outputs": [
    {
     "name": "stdout",
     "output_type": "stream",
     "text": [
      "The Project Gutenberg eBook of Treasure Island\n",
      "    \n",
      "This ebook is for the use of anyone anywhere in the United States and\n",
      "most other parts of the world at no cost and with almost no restrictions\n",
      "whatsoever. You may copy it, give it away or re-use it under the terms\n",
      "of the Project Gutenberg License included with this ebook or online\n",
      "at www.gutenberg.org. If you are not located in the United States,\n",
      "you will have to check the laws of the country where you are located\n",
      "before using this eBook.\n",
      "\n",
      "Title: Treasure Island\n",
      "\n",
      "Author: Robert Louis Stevenson\n",
      "\n",
      "Illustrator: Louis Rhead\n",
      "\n",
      "Release date: February 26, 2006 [eBook #120]\n",
      "                Most recently updated: March 21, 2024\n",
      "\n",
      "Language: English\n",
      "\n",
      "\n",
      "\n",
      "*** START OF THE PROJECT GUTENBERG EBOOK TREASURE ISLAND ***\n",
      "TREASURE ISLAND\n",
      "\n",
      "by Robert Louis Stevenson\n",
      "\n",
      "\n",
      "\n",
      "\n",
      "TREASURE ISLAND\n",
      "\n",
      "To S.L.O., an American gentleman in accordance with whose classic taste\n",
      "the following narrative has been designed, it is now, in return for\n",
      "numerous delightful hours, and with\n"
     ]
    }
   ],
   "source": [
    "# first import the treasure_island.txt file using the open() function and save it to a variable called text\n",
    "with open('treasure_island.txt', 'r') as file:\n",
    "    text = file.read()\n",
    "    \n",
    "# print the first 1000 characters of the book to make sure it was imported correctly (using string splicing)\n",
    "print(text[:1000])\n",
    "\n",
    "# notice the *** START OF THE PROJECT GUTENBERG EBOOK TREASURE ISLAND ***\n",
    "# the US version of guttenberg books have this *** START OF THE PROJECT GUTENBERG EBOOK {bookname} *** at the beginning \n",
    "# They also have *** END OF THE PROJECT GUTENBERG EBOOK {bookname}*** at the end\n",
    "# using this information find the index of the start and end of the book and save the text between them to a new variable\n",
    "# Hint: you can use the find() method to find the index of a string within another string\n",
    "# Hint 2: you can use string splicing to get the text between two indexes\n",
    "start_index = text.find('*** START OF THE PROJECT GUTENBERG EBOOK TREASURE ISLAND ***')\n",
    "end_index = text.find('*** END OF THE PROJECT GUTENBERG EBOOK TREASURE ISLAND ***')\n",
    "start_index += len('*** START OF THE PROJECT GUTENBERG EBOOK TREASURE ISLAND ***')\n",
    "book_text = text[start_index:end_index]\n",
    "\n"
   ]
  },
  {
   "cell_type": "code",
   "execution_count": 3,
   "metadata": {},
   "outputs": [
    {
     "name": "stdout",
     "output_type": "stream",
     "text": [
      "\n",
      "TREASURE ISLAND\n",
      "\n",
      "by Robert Louis Stevenson\n",
      "\n",
      "\n",
      "\n",
      "\n",
      "TREASURE ISLAND\n",
      "\n",
      "To S.L.O., an American gentleman in accordance with whose classic taste\n",
      "the following narrative has been designed, it is now, in return for\n",
      "numerous delightful hours, and with the kindest wishes, dedicated by his\n",
      "affectionate friend, the author.\n",
      "\n",
      "\n",
      "\n",
      "               TO THE HESITATING PURCHASER\n",
      "\n",
      "               If sailor tales to sailor tunes,\n",
      "                  Storm and adventure, heat and cold,\n",
      "               If schooners, islands, and maroons,\n",
      "                  And buccaneers, and buried gold,\n",
      "               And all the old romance, retold\n",
      "                  Exactly in the ancient way,\n",
      "               Can please, as me they pleased of old,\n",
      "                  The wiser youngsters of today:\n",
      "\n",
      "               --So be it, and fall on!  If not,\n",
      "                  If studious youth no longer crave,\n",
      "               His ancient appetites forgot,\n",
      "                  Kingston, or Ballantyne the brave,\n",
      "               Or Cooper of the wood and \n"
     ]
    }
   ],
   "source": [
    "# print the first 1000 characters of the book_text to make sure you have the correct text\n",
    "print(book_text[:1000])"
   ]
  },
  {
   "cell_type": "code",
   "execution_count": 4,
   "metadata": {},
   "outputs": [
    {
     "name": "stdout",
     "output_type": "stream",
     "text": [
      "PART ONE--The Old Buccaneer\n",
      "\n",
      "\n",
      "\n",
      "\n",
      "I\n",
      "The Old Sea-dog at the Admiral Benbow\n",
      "\n",
      "\n",
      "Squire Trelawney, Dr. Livesey, and the rest of these gentlemen having\n",
      "asked me to write down the whole particulars about Treasure Island, from\n",
      "the beginning to the end, keeping nothing back but the bearings of the\n",
      "island, and that only because there is still treasure not yet lifted, I\n",
      "take up my pen in the year of grace 17—, and go back to the time when\n",
      "my father kept the Admiral Benbow inn and the brown old seaman with the\n",
      "sabre cut first took up his lodging under our roof.\n",
      "\n",
      "I remember him as if it were yesterday, as he came plodding to the\n",
      "inn door, his sea-chest following behind him in a hand-barrow--a\n",
      "tall, strong, heavy, nut-brown man, his tarry pigtail falling over the\n",
      "shoulder of his soiled blue coat, his hands ragged and scarred, with\n",
      "black, broken nails, and the sabre cut across one cheek, a dirty, livid\n",
      "white. I remember him looking round the cove and whistling to himself\n",
      "as he did so, and then breaking\n"
     ]
    }
   ],
   "source": [
    "# Were close but we need the remove the table of contents at the beginning of the book. Right after the table of contents \n",
    "# you will see \"PART ONE--The Old Buccaneer\" you can use that to find the start of the book\n",
    "# find the index of \"PART ONE--The Old Buccaneer\" and save the text from that index to the end of the book to a new variable\n",
    "# Hint: you can use the find() method to find the index of a string within another string\n",
    "# Hint 2: The end of the book is already defined by the *** END OF THE PROJECT GUTENBERG EBOOK TREASURE ISLAND *** variable \n",
    "# Hint 3: you can use string splicing to get the text between two indexes\n",
    "start_index = book_text.find('PART ONE--The Old Buccaneer')\n",
    "final_book_text = book_text[start_index:end_index]\n",
    "\n",
    "\n",
    "\n",
    "# print the first 1000 characters of the text to make sure you have the correct text\n",
    "print(final_book_text[:1000])"
   ]
  },
  {
   "cell_type": "code",
   "execution_count": 10,
   "metadata": {},
   "outputs": [],
   "source": [
    "# For the final step lets make sure the text is in lowercase and remove all the new line characters (\\n)\n",
    "# save the final text to a variable called clean_text\n",
    "# Hint: you can use the replace() method to remove characters from a string\n",
    "# Hint 2: you can use the lower() method to make all the characters in a string lowercase\n",
    "# Hint 3: you can combine the replace() and lower() methods to remove all the new line characters and make the text lowercase\n",
    "clean_text = final_book_text.replace('\\n', '').lower()\n"
   ]
  },
  {
   "cell_type": "markdown",
   "metadata": {},
   "source": [
    "At this point you should have the full clean text of the book without the table of contents at the beginning and the end of the book. Lets now do some analysis of the text."
   ]
  },
  {
   "cell_type": "code",
   "execution_count": 11,
   "metadata": {},
   "outputs": [
    {
     "name": "stdout",
     "output_type": "stream",
     "text": [
      "58\n",
      "82\n"
     ]
    }
   ],
   "source": [
    "# Show how many times the word \"treasure\" is used in the book\n",
    "treasure_count = clean_text.count('treasure')\n",
    "print(treasure_count)\n",
    "\n",
    "# Show how many times the word \"island\" is used in the book\n",
    "island_count = clean_text.count('island')   \n",
    "print(island_count) \n"
   ]
  },
  {
   "cell_type": "code",
   "execution_count": 16,
   "metadata": {},
   "outputs": [
    {
     "name": "stdout",
     "output_type": "stream",
     "text": [
      "1686\n"
     ]
    }
   ],
   "source": [
    "# What is the total number of words in Chapter xii? Remember we did a lower case on the text so you will need to search for chapter xii not XII \n",
    "# Hint: To get just the text from Chapter xiiiyou can use slicing between the start and end of the chapter\n",
    "# Hint 2: To find the start of Chapter xiiiyou can use the find() method to find the index of the chapter title\n",
    "# Hint 3: To find the end of Chapter xiiiyou can use the find() method to find the index of the next chapter title (xiii)\n",
    "# Hint 4: You can use the split() method to get a list of all the words in the chapter\n",
    "# Hint 5: You can use the len() method to get the total number of words in the chapter\n",
    "start_index = clean_text.find(\"xii\")\n",
    "end_index = clean_text.find(\"xiii\") \n",
    "chapter_xii = clean_text[start_index:end_index] \n",
    "chapter_xii_words = chapter_xii.split()\n",
    "chapter_xii_word_count = len(chapter_xii_words)\n",
    "print(chapter_xii_word_count)\n"
   ]
  },
  {
   "cell_type": "code",
   "execution_count": 17,
   "metadata": {},
   "outputs": [
    {
     "name": "stdout",
     "output_type": "stream",
     "text": [
      "808\n"
     ]
    }
   ],
   "source": [
    "# EXTRA CREDIT\n",
    "# Find the total number of unique words in the chapter\n",
    "unique_words = set(chapter_xii_words)\n",
    "unique_word_count = len(unique_words)\n",
    "print(unique_word_count)\n",
    "\n"
   ]
  }
 ],
 "metadata": {
  "kernelspec": {
   "display_name": "venv",
   "language": "python",
   "name": "python3"
  },
  "language_info": {
   "codemirror_mode": {
    "name": "ipython",
    "version": 3
   },
   "file_extension": ".py",
   "mimetype": "text/x-python",
   "name": "python",
   "nbconvert_exporter": "python",
   "pygments_lexer": "ipython3",
   "version": "3.9.6"
  }
 },
 "nbformat": 4,
 "nbformat_minor": 2
}
